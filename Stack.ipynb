{
  "cells": [
    {
      "cell_type": "code",
      "execution_count": 2,
      "id": "c231fcb2-314a-49fc-98bc-12df3d5e800e",
      "metadata": {
        "id": "c231fcb2-314a-49fc-98bc-12df3d5e800e"
      },
      "outputs": [],
      "source": [
        "class Stack:\n",
        "    def __init__(self):\n",
        "        self.items = []\n",
        "\n",
        "    def __str__(self) -> str:\n",
        "        if self.isEmpty():\n",
        "          return \"Stack is empty\"\n",
        "        values = [x for x in reversed(self.items)]\n",
        "        return \"\\n\".join(map(str, values))\n",
        "\n",
        "    def isEmpty(self):\n",
        "      if len(self.items) == 0:\n",
        "        return True\n",
        "      else:\n",
        "        return False\n",
        "\n",
        "    def push(self, item):\n",
        "        self.items.append(item)\n",
        "\n",
        "    def pop(self):\n",
        "      if self.isEmpty():\n",
        "        return \"Stack is empty\"\n",
        "      return self.items.pop()\n",
        "\n",
        "    def peek(self):\n",
        "      if self.isEmpty():\n",
        "        return \"Stack is empty\"\n",
        "      return self.items[-1]\n",
        "\n",
        "    def size(self):\n",
        "      return len(self.items)\n",
        "\n",
        "    def clear(self):\n",
        "      self.items = []\n"
      ]
    },
    {
      "cell_type": "code",
      "execution_count": 12,
      "id": "da9f9fe0-54bd-4832-8829-3a8e0b987b55",
      "metadata": {
        "id": "da9f9fe0-54bd-4832-8829-3a8e0b987b55",
        "outputId": "624bffe7-1363-4f11-e8f2-f1c4c29a3153",
        "colab": {
          "base_uri": "https://localhost:8080/"
        }
      },
      "outputs": [
        {
          "output_type": "stream",
          "name": "stdout",
          "text": [
            "3\n",
            "3\n",
            "2\n",
            "1\n"
          ]
        }
      ],
      "source": [
        "my_stack = Stack()\n",
        "my_stack.push(1)\n",
        "my_stack.push(2)\n",
        "my_stack.push(3)\n",
        "print(my_stack.peek())\n",
        "#print\n",
        "print(my_stack)"
      ]
    },
    {
      "cell_type": "code",
      "execution_count": null,
      "id": "b796a92c-23a0-41f7-9a29-bfdbaaf10458",
      "metadata": {
        "id": "b796a92c-23a0-41f7-9a29-bfdbaaf10458"
      },
      "outputs": [],
      "source": []
    }
  ],
  "metadata": {
    "kernelspec": {
      "display_name": "Python 3 (ipykernel)",
      "language": "python",
      "name": "python3"
    },
    "language_info": {
      "codemirror_mode": {
        "name": "ipython",
        "version": 3
      },
      "file_extension": ".py",
      "mimetype": "text/x-python",
      "name": "python",
      "nbconvert_exporter": "python",
      "pygments_lexer": "ipython3",
      "version": "3.12.1"
    },
    "colab": {
      "provenance": [],
      "toc_visible": true
    }
  },
  "nbformat": 4,
  "nbformat_minor": 5
}