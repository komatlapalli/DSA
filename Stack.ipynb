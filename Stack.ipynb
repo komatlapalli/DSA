{
  "cells": [
    {
      "cell_type": "code",
      "execution_count": 1,
      "id": "c231fcb2-314a-49fc-98bc-12df3d5e800e",
      "metadata": {
        "id": "c231fcb2-314a-49fc-98bc-12df3d5e800e"
      },
      "outputs": [],
      "source": [
        "class Stack:\n",
        "    def __init__(self):\n",
        "        self.items = []"
      ]
    },
    {
      "cell_type": "code",
      "execution_count": 3,
      "id": "da9f9fe0-54bd-4832-8829-3a8e0b987b55",
      "metadata": {
        "id": "da9f9fe0-54bd-4832-8829-3a8e0b987b55",
        "outputId": "d203477d-7535-405b-9aea-aa14d5ddcd34",
        "colab": {
          "base_uri": "https://localhost:8080/"
        }
      },
      "outputs": [
        {
          "output_type": "stream",
          "name": "stdout",
          "text": [
            "[]\n"
          ]
        }
      ],
      "source": [
        "my_stack = Stack()\n",
        "#print\n",
        "print(my_stack.items)"
      ]
    },
    {
      "cell_type": "code",
      "execution_count": null,
      "id": "b796a92c-23a0-41f7-9a29-bfdbaaf10458",
      "metadata": {
        "id": "b796a92c-23a0-41f7-9a29-bfdbaaf10458"
      },
      "outputs": [],
      "source": []
    }
  ],
  "metadata": {
    "kernelspec": {
      "display_name": "Python 3 (ipykernel)",
      "language": "python",
      "name": "python3"
    },
    "language_info": {
      "codemirror_mode": {
        "name": "ipython",
        "version": 3
      },
      "file_extension": ".py",
      "mimetype": "text/x-python",
      "name": "python",
      "nbconvert_exporter": "python",
      "pygments_lexer": "ipython3",
      "version": "3.12.1"
    },
    "colab": {
      "provenance": [],
      "toc_visible": true
    }
  },
  "nbformat": 4,
  "nbformat_minor": 5
}