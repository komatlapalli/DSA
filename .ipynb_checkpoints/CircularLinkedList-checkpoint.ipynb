{
 "cells": [
  {
   "cell_type": "code",
   "execution_count": 3,
   "id": "de1fd887-e219-4be5-af42-6f06d7638b98",
   "metadata": {},
   "outputs": [],
   "source": [
    "class Node():\n",
    "    def __init__(self, value):\n",
    "        self.value= value\n",
    "        self.next = None"
   ]
  },
  {
   "cell_type": "code",
   "execution_count": 26,
   "id": "0bfd9e3e-e36d-46b4-844d-cf0ed6ea89ee",
   "metadata": {},
   "outputs": [],
   "source": [
    "class Circular_LS():\n",
    "    def __init__(self):\n",
    "        self.head = None\n",
    "        self.tail = None\n",
    "        self.length = 0\n",
    "        \n",
    "    def __str__(self):\n",
    "        temp_node = self.head\n",
    "        result = ''\n",
    "        while temp_node is not None:\n",
    "            result += str(temp_node.value)\n",
    "            result+= ' -> '\n",
    "            temp_node = temp_node.next\n",
    "            if temp_node == self.head:\n",
    "                break\n",
    "            \n",
    "            \n",
    "        return result\n",
    "\n",
    "    def prepend(self, value):\n",
    "        new_node = Node(value)\n",
    "        if self.head is None:\n",
    "            self.head = new_node\n",
    "            self.tail = new_node\n",
    "            new_node.next = new_node\n",
    "        else:\n",
    "            new_node.next = self.head\n",
    "            self.head = new_node\n",
    "            self.tail.next = new_node\n",
    "\n",
    "        self.length+=1\n",
    "\n",
    "        \n",
    "    def append(self, value):\n",
    "        new_node = Node(value)\n",
    "        if self.length == 0:\n",
    "            self.head = new_node\n",
    "            self.tail = new_node\n",
    "            new_node.next = new_node\n",
    "        else:\n",
    "            self.tail.next = new_node\n",
    "            new_node.next = self.head\n",
    "            self.tail = new_node\n",
    "        self.length +=1\n",
    "            \n",
    "        "
   ]
  },
  {
   "cell_type": "code",
   "execution_count": 27,
   "id": "a992a86e-cc93-4eb1-9fc0-f789c5d9a950",
   "metadata": {},
   "outputs": [
    {
     "name": "stdout",
     "output_type": "stream",
     "text": [
      "1 -> 10 -> \n"
     ]
    }
   ],
   "source": [
    "circularLinkedList = Circular_LS()\n",
    "circularLinkedList.append(10)\n",
    "circularLinkedList.prepend(1)\n",
    "print(circularLinkedList)"
   ]
  },
  {
   "cell_type": "code",
   "execution_count": null,
   "id": "5e43dfdf-3577-4f65-a833-11b423f938c5",
   "metadata": {},
   "outputs": [],
   "source": []
  }
 ],
 "metadata": {
  "kernelspec": {
   "display_name": "Python 3 (ipykernel)",
   "language": "python",
   "name": "python3"
  },
  "language_info": {
   "codemirror_mode": {
    "name": "ipython",
    "version": 3
   },
   "file_extension": ".py",
   "mimetype": "text/x-python",
   "name": "python",
   "nbconvert_exporter": "python",
   "pygments_lexer": "ipython3",
   "version": "3.12.1"
  }
 },
 "nbformat": 4,
 "nbformat_minor": 5
}
