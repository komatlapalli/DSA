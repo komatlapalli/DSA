{
  "cells": [
    {
      "cell_type": "markdown",
      "metadata": {
        "id": "view-in-github",
        "colab_type": "text"
      },
      "source": [
        "<a href=\"https://colab.research.google.com/github/komatlapalli/DSA/blob/main/StackLL.ipynb\" target=\"_parent\"><img src=\"https://colab.research.google.com/assets/colab-badge.svg\" alt=\"Open In Colab\"/></a>"
      ]
    },
    {
      "cell_type": "code",
      "source": [
        "class Node:\n",
        "  def __init__(self, value):\n",
        "    self.data = value\n",
        "    self.next = None"
      ],
      "metadata": {
        "id": "pdmk8XBzied9"
      },
      "execution_count": 19,
      "outputs": []
    },
    {
      "cell_type": "code",
      "source": [
        "class Satck:\n",
        "  def __init__(self):\n",
        "    self.top = None\n",
        "    self.length = 0\n",
        "\n",
        "  def push(self, value):\n",
        "    new_node = Node(value)\n",
        "    new_node.next = self.top\n",
        "    self.top = new_node\n",
        "    self.length += 1\n",
        "\n",
        "  def pop(self):\n",
        "    if self.top is None:\n",
        "      return None\n",
        "    else:\n",
        "      temp = self.top\n",
        "      self.top = self.top.next\n",
        "      temp.next = None\n",
        "      self.length -= 1\n",
        "      return temp.value\n",
        "\n",
        "  def peek(self):\n",
        "    if self.top is None:\n",
        "      return None\n",
        "    else:\n",
        "      return self.top.value\n",
        "\n",
        "  def clear(self):\n",
        "    self.top = None\n",
        "    self.length = 0\n",
        "\n",
        "  def is_empty(self):\n",
        "    return self.top is None"
      ],
      "metadata": {
        "id": "VSt66p8qH6Yw"
      },
      "execution_count": 20,
      "outputs": []
    }
  ],
  "metadata": {
    "colab": {
      "name": "Welcome To Colab",
      "toc_visible": true,
      "provenance": [],
      "include_colab_link": true
    },
    "kernelspec": {
      "display_name": "Python 3",
      "name": "python3"
    }
  },
  "nbformat": 4,
  "nbformat_minor": 0
}